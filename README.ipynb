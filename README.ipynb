{
 "cells": [
  {
   "cell_type": "markdown",
   "metadata": {},
   "source": [
    "# Formation Python, analyse de donnée et interfaçage E⁺\n",
    "\n",
    "[![Binder](https://mybinder.org/badge_logo.svg)](https://mybinder.org/v2/gl/celliern%2Feneos_formation/master)\n",
    "\n",
    "## Partie 1 (7 h) - les fondamentaux\n",
    "\n",
    "- [Introduction au langage Python (1h)](notebooks/D01-fondamentaux_01/fonda_00-introduction.ipynb)\n",
    "  - Petite perspective\n",
    "  - Installation de via [anaconda](https://www.anaconda.com/)\n",
    "  - Premier contact : utilisation des notebooks [jupyter](https://jupyter.org/)\n",
    "  - Aparté sur les conventions de style ([PEP8](https://www.python.org/dev/peps/pep-0008/))\n",
    "- Apprentissage par l'exemple : lecture et analyse de fichiers de donnée (5h30-6h)\n",
    "  - [Utilisations des variables](notebooks/D01-fondamentaux_01/fonda_01-variables.ipynb)\n",
    "  - [Analyser des données tabulaires](notebooks/D01-fondamentaux_01/fonda_02-donnees_tabulaires.ipynb)\n",
    "  - [Affichage des données](notebooks/D01-fondamentaux_01/fonda_03-simple_vizu.ipynb)\n",
    "  - [Répétition d'action avec les boucles](notebooks/D01-fondamentaux_01/fonda_04-boucles.ipynb)\n",
    "  - [Stockage de valeurs dans les listes](notebooks/D02-fondamentaux_02/fonda_05-listes_tuples.ipynb)\n",
    "  - [Application au traitement de nombreux fichiers](notebooks/D02-fondamentaux_02/fonda_06-app_multiples_fichiers.ipynb)\n",
    "  - [Programmation conditionnelle : des actions différentes pour différentes valeurs](notebooks/D02-fondamentaux_02/fonda_07-conditions.ipynb)\n",
    "  - [Structurer le code avec les fonctions](notebooks/D02-fondamentaux_02/fonda_08-fonctions.ipynb)\n",
    "  - [Rendre son code plus robuste, gestion des erreurs et debug](notebooks/D02-fondamentaux_02/fonda_09-robustesse_erreur_debug.ipynb)\n",
    "- Debriefing (15 min)\n",
    "\n",
    "## Partie 2 (7h) - outils d'analyse de donnée\n",
    "\n",
    "- [Mise en contexte : le stack scientifique python (45 min)](notebooks/D03-analyse_num_01/num_00-contexte.ipynb)\n",
    "- Introduction au calcul scientifique en python (2h)\n",
    "  - [La brique de base : `numpy`](notebooks/D03-analyse_num_01/num_01-scistack_numpy.ipynb)\n",
    "  - [La boîte à outil : `scipy`](notebooks/D03-analyse_num_01/num_02-scistack_scipy.ipynb)\n",
    "  - [Statistique et données tabulaires : `pandas`](notebooks/D03-analyse_num_01/num_03-scistack_stats_pandas.ipynb)\n",
    "  - [La visualisation : `matplotlib`, `pyviz`](notebooks/D03-analyse_num_01/num_04-scistack_visualisation.ipynb)\n",
    "- [`pandas` pour l'analyse de séries temporelles (4h)](notebooks/D04-analyse_num_02/num_06-pandas_intro.ipynb)\n",
    "  - [Lecture et écriture de set de donnée](notebooks/D04-analyse_num_02/num_07-pandas_io.ipynb)\n",
    "  - [Sélection des données : indexation simple et avancé](notebooks/D04-analyse_num_02/num_08-pandas_indexation.ipynb)\n",
    "  - [Renforcement des données : gestion des données manquantes](notebooks/D04-analyse_num_02/num_09-pandas_donnees_manquantes.ipynb)\n",
    "  - [Gestion des données temporelles, rééchantillonage](notebooks/D04-analyse_num_02/num_10-pandas_serie_temporelles.ipynb)\n",
    "- Debriefing (15 min)\n",
    "\n",
    "## Partie 3 (3h) - manipuler E⁺ en python\n",
    "\n",
    "- [Lancement d'une simulation E⁺ : `subprocess` et `plumbum` (1h)](notebooks/D05-eplus/e+_01-lancement_process_externe.ipynb)\n",
    "- [Récupération des résultats (30min)](notebooks/D05-eplus/e+_02-lire_resultats_eplus.ipynb)\n",
    "- [Le cas complexe de la parallélisation et d'E⁺ (30min)](notebooks/D05-eplus/e+_03-paralleliser_eplus.ipynb)\n",
    "- [Une solution: utilisation d'une librairie tierce spécialisé : `energyplus_wrapper` (30 min)](notebooks/D05-eplus/e+_04-energyplus_wrapper.ipynb)\n",
    "- Debriefing (15 min)\n"
   ]
  },
  {
   "cell_type": "code",
   "execution_count": null,
   "metadata": {},
   "outputs": [],
   "source": []
  }
 ],
 "metadata": {
  "jupytext": {
   "formats": "ipynb,md"
  },
  "kernelspec": {
   "display_name": "Python [conda env:root] *",
   "language": "python",
   "name": "conda-root-py"
  },
  "language_info": {
   "codemirror_mode": {
    "name": "ipython",
    "version": 3
   },
   "file_extension": ".py",
   "mimetype": "text/x-python",
   "name": "python",
   "nbconvert_exporter": "python",
   "pygments_lexer": "ipython3",
   "version": "3.7.6"
  }
 },
 "nbformat": 4,
 "nbformat_minor": 4
}
