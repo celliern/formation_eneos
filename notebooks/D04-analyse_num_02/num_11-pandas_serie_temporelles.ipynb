{
 "cells": [
  {
   "cell_type": "code",
   "execution_count": 1,
   "metadata": {},
   "outputs": [],
   "source": [
    "import pandas as pd"
   ]
  },
  {
   "cell_type": "markdown",
   "metadata": {},
   "source": [
    "# Gestion des séries temporelles avec Pandas"
   ]
  },
  {
   "cell_type": "markdown",
   "metadata": {},
   "source": [
    "Les données temporelles occupent une place de choix pour Pandas. Il est (relativement) facile de convertir automatiquement des indices représentant des séries temporelles en \"vrai\" dates, ce qui offre un certain nombre d'avantages et de méthodes spécifiques pour travailler avec les séries temporelles."
   ]
  },
  {
   "cell_type": "markdown",
   "metadata": {},
   "source": [
    "## Créer un DatetimeIndex"
   ]
  },
  {
   "cell_type": "markdown",
   "metadata": {},
   "source": [
    "### A partir de rien"
   ]
  },
  {
   "cell_type": "markdown",
   "metadata": {},
   "source": [
    "On peut créer un Index spécialisé contenant une série de date, qu'il sera possible de fournir au DataFrame de notre choix, avec `pd.date_range`. Il est possible de fournir le point de départ, le point d'arrivé, la fréquence et le nombre de périodes. 3 sur ces 4 paramètres sont nécessaires et suffisants."
   ]
  },
  {
   "cell_type": "code",
   "execution_count": 2,
   "metadata": {},
   "outputs": [
    {
     "data": {
      "text/plain": [
       "DatetimeIndex(['2020-02-25 00:00:00', '2020-02-25 00:01:00',\n",
       "               '2020-02-25 00:02:00', '2020-02-25 00:03:00',\n",
       "               '2020-02-25 00:04:00', '2020-02-25 00:05:00',\n",
       "               '2020-02-25 00:06:00', '2020-02-25 00:07:00',\n",
       "               '2020-02-25 00:08:00', '2020-02-25 00:09:00',\n",
       "               ...\n",
       "               '2020-02-27 23:51:00', '2020-02-27 23:52:00',\n",
       "               '2020-02-27 23:53:00', '2020-02-27 23:54:00',\n",
       "               '2020-02-27 23:55:00', '2020-02-27 23:56:00',\n",
       "               '2020-02-27 23:57:00', '2020-02-27 23:58:00',\n",
       "               '2020-02-27 23:59:00', '2020-02-28 00:00:00'],\n",
       "              dtype='datetime64[ns]', length=4321, freq='T')"
      ]
     },
     "execution_count": 2,
     "metadata": {},
     "output_type": "execute_result"
    }
   ],
   "source": [
    "dt_index = pd.date_range(start=\"02/25/2020 00:00\", end=\"02/28/2020 00:00\", freq=\"1min\")\n",
    "dt_index"
   ]
  },
  {
   "cell_type": "code",
   "execution_count": 3,
   "metadata": {},
   "outputs": [
    {
     "data": {
      "text/plain": [
       "DatetimeIndex([          '2020-02-25 00:00:00',\n",
       "               '2020-02-25 00:14:26.889632107',\n",
       "               '2020-02-25 00:28:53.779264214',\n",
       "               '2020-02-25 00:43:20.668896321',\n",
       "               '2020-02-25 00:57:47.558528428',\n",
       "               '2020-02-25 01:12:14.448160535',\n",
       "               '2020-02-25 01:26:41.337792642',\n",
       "               '2020-02-25 01:41:08.227424749',\n",
       "               '2020-02-25 01:55:35.117056856',\n",
       "               '2020-02-25 02:10:02.006688963',\n",
       "               ...\n",
       "               '2020-02-27 21:49:57.993311036',\n",
       "               '2020-02-27 22:04:24.882943143',\n",
       "               '2020-02-27 22:18:51.772575250',\n",
       "               '2020-02-27 22:33:18.662207357',\n",
       "               '2020-02-27 22:47:45.551839464',\n",
       "               '2020-02-27 23:02:12.441471571',\n",
       "               '2020-02-27 23:16:39.331103678',\n",
       "               '2020-02-27 23:31:06.220735785',\n",
       "               '2020-02-27 23:45:33.110367893',\n",
       "                         '2020-02-28 00:00:00'],\n",
       "              dtype='datetime64[ns]', length=300, freq=None)"
      ]
     },
     "execution_count": 3,
     "metadata": {},
     "output_type": "execute_result"
    }
   ],
   "source": [
    "dt_index = pd.date_range(start=\"02/25/2020 00:00\", end=\"02/28/2020 00:00\", periods=300)\n",
    "dt_index"
   ]
  },
  {
   "cell_type": "code",
   "execution_count": 10,
   "metadata": {},
   "outputs": [
    {
     "data": {
      "text/plain": [
       "DatetimeIndex(['2020-02-25 00:00:00', '2020-02-25 01:00:00',\n",
       "               '2020-02-25 02:00:00', '2020-02-25 03:00:00',\n",
       "               '2020-02-25 04:00:00', '2020-02-25 05:00:00',\n",
       "               '2020-02-25 06:00:00', '2020-02-25 07:00:00',\n",
       "               '2020-02-25 08:00:00', '2020-02-25 09:00:00',\n",
       "               ...\n",
       "               '2020-03-08 02:00:00', '2020-03-08 03:00:00',\n",
       "               '2020-03-08 04:00:00', '2020-03-08 05:00:00',\n",
       "               '2020-03-08 06:00:00', '2020-03-08 07:00:00',\n",
       "               '2020-03-08 08:00:00', '2020-03-08 09:00:00',\n",
       "               '2020-03-08 10:00:00', '2020-03-08 11:00:00'],\n",
       "              dtype='datetime64[ns]', length=300, freq='H')"
      ]
     },
     "execution_count": 10,
     "metadata": {},
     "output_type": "execute_result"
    }
   ],
   "source": [
    "dt_index = pd.date_range(start=\"02/25/2020 00:00\", periods=300, freq=\"H\")\n",
    "dt_index"
   ]
  },
  {
   "cell_type": "markdown",
   "metadata": {},
   "source": [
    "Ces index peuvent être fournis à un dataframe, à sa création ou après coup."
   ]
  },
  {
   "cell_type": "code",
   "execution_count": 4,
   "metadata": {},
   "outputs": [],
   "source": [
    "df = pd.read_csv(\"../../data/temperatures_np.csv\",\n",
    "                 index_col=None, header=None, names=[\"Tin\", \"Tout\"])"
   ]
  },
  {
   "cell_type": "code",
   "execution_count": 6,
   "metadata": {},
   "outputs": [
    {
     "data": {
      "text/html": [
       "<div>\n",
       "<style scoped>\n",
       "    .dataframe tbody tr th:only-of-type {\n",
       "        vertical-align: middle;\n",
       "    }\n",
       "\n",
       "    .dataframe tbody tr th {\n",
       "        vertical-align: top;\n",
       "    }\n",
       "\n",
       "    .dataframe thead th {\n",
       "        text-align: right;\n",
       "    }\n",
       "</style>\n",
       "<table border=\"1\" class=\"dataframe\">\n",
       "  <thead>\n",
       "    <tr style=\"text-align: right;\">\n",
       "      <th></th>\n",
       "      <th>Tin</th>\n",
       "      <th>Tout</th>\n",
       "    </tr>\n",
       "  </thead>\n",
       "  <tbody>\n",
       "    <tr>\n",
       "      <td>2017-01-01 00:00:00</td>\n",
       "      <td>23.0</td>\n",
       "      <td>7.5</td>\n",
       "    </tr>\n",
       "    <tr>\n",
       "      <td>2017-01-01 00:01:00</td>\n",
       "      <td>23.0</td>\n",
       "      <td>7.5</td>\n",
       "    </tr>\n",
       "    <tr>\n",
       "      <td>2017-01-01 00:02:00</td>\n",
       "      <td>23.0</td>\n",
       "      <td>7.3</td>\n",
       "    </tr>\n",
       "    <tr>\n",
       "      <td>2017-01-01 00:03:00</td>\n",
       "      <td>23.0</td>\n",
       "      <td>7.4</td>\n",
       "    </tr>\n",
       "    <tr>\n",
       "      <td>2017-01-01 00:04:00</td>\n",
       "      <td>23.0</td>\n",
       "      <td>7.4</td>\n",
       "    </tr>\n",
       "    <tr>\n",
       "      <td>...</td>\n",
       "      <td>...</td>\n",
       "      <td>...</td>\n",
       "    </tr>\n",
       "    <tr>\n",
       "      <td>2017-01-31 23:55:00</td>\n",
       "      <td>23.0</td>\n",
       "      <td>8.6</td>\n",
       "    </tr>\n",
       "    <tr>\n",
       "      <td>2017-01-31 23:56:00</td>\n",
       "      <td>23.0</td>\n",
       "      <td>8.6</td>\n",
       "    </tr>\n",
       "    <tr>\n",
       "      <td>2017-01-31 23:57:00</td>\n",
       "      <td>23.0</td>\n",
       "      <td>8.8</td>\n",
       "    </tr>\n",
       "    <tr>\n",
       "      <td>2017-01-31 23:58:00</td>\n",
       "      <td>23.0</td>\n",
       "      <td>8.7</td>\n",
       "    </tr>\n",
       "    <tr>\n",
       "      <td>2017-01-31 23:59:00</td>\n",
       "      <td>23.0</td>\n",
       "      <td>8.6</td>\n",
       "    </tr>\n",
       "  </tbody>\n",
       "</table>\n",
       "<p>44640 rows × 2 columns</p>\n",
       "</div>"
      ],
      "text/plain": [
       "                      Tin  Tout\n",
       "2017-01-01 00:00:00  23.0   7.5\n",
       "2017-01-01 00:01:00  23.0   7.5\n",
       "2017-01-01 00:02:00  23.0   7.3\n",
       "2017-01-01 00:03:00  23.0   7.4\n",
       "2017-01-01 00:04:00  23.0   7.4\n",
       "...                   ...   ...\n",
       "2017-01-31 23:55:00  23.0   8.6\n",
       "2017-01-31 23:56:00  23.0   8.6\n",
       "2017-01-31 23:57:00  23.0   8.8\n",
       "2017-01-31 23:58:00  23.0   8.7\n",
       "2017-01-31 23:59:00  23.0   8.6\n",
       "\n",
       "[44640 rows x 2 columns]"
      ]
     },
     "execution_count": 6,
     "metadata": {},
     "output_type": "execute_result"
    }
   ],
   "source": [
    "df.index = pd.date_range(start=\"01/01/2017 00:00\", freq=\"1min\", periods=len(df))\n",
    "df"
   ]
  },
  {
   "cell_type": "markdown",
   "metadata": {},
   "source": [
    "### Parsing de la date à l'import d'un csv\n",
    "\n",
    "Si par défaut un index contenant des dates sous forme de texte sera considéré comme du texte par Pandas, il est facilement possible de le convertir en DateTimeIndex."
   ]
  },
  {
   "cell_type": "code",
   "execution_count": 7,
   "metadata": {},
   "outputs": [
    {
     "data": {
      "text/html": [
       "<div>\n",
       "<style scoped>\n",
       "    .dataframe tbody tr th:only-of-type {\n",
       "        vertical-align: middle;\n",
       "    }\n",
       "\n",
       "    .dataframe tbody tr th {\n",
       "        vertical-align: top;\n",
       "    }\n",
       "\n",
       "    .dataframe thead th {\n",
       "        text-align: right;\n",
       "    }\n",
       "</style>\n",
       "<table border=\"1\" class=\"dataframe\">\n",
       "  <thead>\n",
       "    <tr style=\"text-align: right;\">\n",
       "      <th></th>\n",
       "      <th>temp_inside</th>\n",
       "      <th>temp_outside</th>\n",
       "    </tr>\n",
       "    <tr>\n",
       "      <th>date and time</th>\n",
       "      <th></th>\n",
       "      <th></th>\n",
       "    </tr>\n",
       "  </thead>\n",
       "  <tbody>\n",
       "    <tr>\n",
       "      <td>2018-01-01 00:00:00</td>\n",
       "      <td>23.0</td>\n",
       "      <td>7.5</td>\n",
       "    </tr>\n",
       "    <tr>\n",
       "      <td>2018-01-01 00:01:00</td>\n",
       "      <td>23.0</td>\n",
       "      <td>7.5</td>\n",
       "    </tr>\n",
       "    <tr>\n",
       "      <td>2018-01-01 00:02:00</td>\n",
       "      <td>23.0</td>\n",
       "      <td>7.3</td>\n",
       "    </tr>\n",
       "    <tr>\n",
       "      <td>2018-01-01 00:03:00</td>\n",
       "      <td>23.0</td>\n",
       "      <td>7.4</td>\n",
       "    </tr>\n",
       "    <tr>\n",
       "      <td>2018-01-01 00:04:00</td>\n",
       "      <td>23.0</td>\n",
       "      <td>7.4</td>\n",
       "    </tr>\n",
       "    <tr>\n",
       "      <td>...</td>\n",
       "      <td>...</td>\n",
       "      <td>...</td>\n",
       "    </tr>\n",
       "    <tr>\n",
       "      <td>2018-01-31 23:55:00</td>\n",
       "      <td>23.0</td>\n",
       "      <td>8.6</td>\n",
       "    </tr>\n",
       "    <tr>\n",
       "      <td>2018-01-31 23:56:00</td>\n",
       "      <td>23.0</td>\n",
       "      <td>8.6</td>\n",
       "    </tr>\n",
       "    <tr>\n",
       "      <td>2018-01-31 23:57:00</td>\n",
       "      <td>23.0</td>\n",
       "      <td>8.8</td>\n",
       "    </tr>\n",
       "    <tr>\n",
       "      <td>2018-01-31 23:58:00</td>\n",
       "      <td>23.0</td>\n",
       "      <td>8.7</td>\n",
       "    </tr>\n",
       "    <tr>\n",
       "      <td>2018-01-31 23:59:00</td>\n",
       "      <td>23.0</td>\n",
       "      <td>8.6</td>\n",
       "    </tr>\n",
       "  </tbody>\n",
       "</table>\n",
       "<p>44640 rows × 2 columns</p>\n",
       "</div>"
      ],
      "text/plain": [
       "                     temp_inside  temp_outside\n",
       "date and time                                 \n",
       "2018-01-01 00:00:00         23.0           7.5\n",
       "2018-01-01 00:01:00         23.0           7.5\n",
       "2018-01-01 00:02:00         23.0           7.3\n",
       "2018-01-01 00:03:00         23.0           7.4\n",
       "2018-01-01 00:04:00         23.0           7.4\n",
       "...                          ...           ...\n",
       "2018-01-31 23:55:00         23.0           8.6\n",
       "2018-01-31 23:56:00         23.0           8.6\n",
       "2018-01-31 23:57:00         23.0           8.8\n",
       "2018-01-31 23:58:00         23.0           8.7\n",
       "2018-01-31 23:59:00         23.0           8.6\n",
       "\n",
       "[44640 rows x 2 columns]"
      ]
     },
     "execution_count": 7,
     "metadata": {},
     "output_type": "execute_result"
    }
   ],
   "source": [
    "df = pd.read_csv(\"../../data/temperatures.csv\", index_col=0)\n",
    "df"
   ]
  },
  {
   "cell_type": "code",
   "execution_count": 27,
   "metadata": {},
   "outputs": [
    {
     "data": {
      "text/plain": [
       "Index(['2018-01-01 00:00:00', '2018-01-01 00:01:00', '2018-01-01 00:02:00',\n",
       "       '2018-01-01 00:03:00', '2018-01-01 00:04:00', '2018-01-01 00:05:00',\n",
       "       '2018-01-01 00:06:00', '2018-01-01 00:07:00', '2018-01-01 00:08:00',\n",
       "       '2018-01-01 00:09:00',\n",
       "       ...\n",
       "       '2018-01-31 23:50:00', '2018-01-31 23:51:00', '2018-01-31 23:52:00',\n",
       "       '2018-01-31 23:53:00', '2018-01-31 23:54:00', '2018-01-31 23:55:00',\n",
       "       '2018-01-31 23:56:00', '2018-01-31 23:57:00', '2018-01-31 23:58:00',\n",
       "       '2018-01-31 23:59:00'],\n",
       "      dtype='object', name='date and time', length=44640)"
      ]
     },
     "execution_count": 27,
     "metadata": {},
     "output_type": "execute_result"
    }
   ],
   "source": [
    "df.index"
   ]
  },
  {
   "cell_type": "code",
   "execution_count": 28,
   "metadata": {},
   "outputs": [
    {
     "data": {
      "text/plain": [
       "str"
      ]
     },
     "execution_count": 28,
     "metadata": {},
     "output_type": "execute_result"
    }
   ],
   "source": [
    "type(df.index[0])"
   ]
  },
  {
   "cell_type": "code",
   "execution_count": 8,
   "metadata": {},
   "outputs": [
    {
     "data": {
      "text/plain": [
       "DatetimeIndex(['2018-01-01 00:00:00', '2018-01-01 00:01:00',\n",
       "               '2018-01-01 00:02:00', '2018-01-01 00:03:00',\n",
       "               '2018-01-01 00:04:00', '2018-01-01 00:05:00',\n",
       "               '2018-01-01 00:06:00', '2018-01-01 00:07:00',\n",
       "               '2018-01-01 00:08:00', '2018-01-01 00:09:00',\n",
       "               ...\n",
       "               '2018-01-31 23:50:00', '2018-01-31 23:51:00',\n",
       "               '2018-01-31 23:52:00', '2018-01-31 23:53:00',\n",
       "               '2018-01-31 23:54:00', '2018-01-31 23:55:00',\n",
       "               '2018-01-31 23:56:00', '2018-01-31 23:57:00',\n",
       "               '2018-01-31 23:58:00', '2018-01-31 23:59:00'],\n",
       "              dtype='datetime64[ns]', name='date and time', length=44640, freq=None)"
      ]
     },
     "execution_count": 8,
     "metadata": {},
     "output_type": "execute_result"
    }
   ],
   "source": [
    "df = pd.read_csv(\"../../data/temperatures.csv\", index_col=0, parse_dates=True)\n",
    "df.index"
   ]
  },
  {
   "cell_type": "code",
   "execution_count": 9,
   "metadata": {},
   "outputs": [
    {
     "data": {
      "text/plain": [
       "pandas._libs.tslibs.timestamps.Timestamp"
      ]
     },
     "execution_count": 9,
     "metadata": {},
     "output_type": "execute_result"
    }
   ],
   "source": [
    "type(df.index[0])"
   ]
  },
  {
   "cell_type": "markdown",
   "metadata": {},
   "source": [
    "### Conversion d'un index \"classique\" en DateTimeIndex"
   ]
  },
  {
   "cell_type": "code",
   "execution_count": 18,
   "metadata": {},
   "outputs": [
    {
     "data": {
      "text/plain": [
       "Index(['2018-01-01 00:00:00', '2018-01-01 00:01:00', '2018-01-01 00:02:00',\n",
       "       '2018-01-01 00:03:00', '2018-01-01 00:04:00', '2018-01-01 00:05:00',\n",
       "       '2018-01-01 00:06:00', '2018-01-01 00:07:00', '2018-01-01 00:08:00',\n",
       "       '2018-01-01 00:09:00',\n",
       "       ...\n",
       "       '2018-01-31 23:50:00', '2018-01-31 23:51:00', '2018-01-31 23:52:00',\n",
       "       '2018-01-31 23:53:00', '2018-01-31 23:54:00', '2018-01-31 23:55:00',\n",
       "       '2018-01-31 23:56:00', '2018-01-31 23:57:00', '2018-01-31 23:58:00',\n",
       "       '2018-01-31 23:59:00'],\n",
       "      dtype='object', name='date and time', length=44640)"
      ]
     },
     "execution_count": 18,
     "metadata": {},
     "output_type": "execute_result"
    }
   ],
   "source": [
    "df = pd.read_csv(\"../../data/temperatures.csv\", index_col=0)\n",
    "df.index"
   ]
  },
  {
   "cell_type": "code",
   "execution_count": 27,
   "metadata": {},
   "outputs": [],
   "source": [
    "dt_idx = pd.to_datetime(df.index)"
   ]
  },
  {
   "cell_type": "code",
   "execution_count": 31,
   "metadata": {},
   "outputs": [
    {
     "data": {
      "text/plain": [
       "DatetimeIndex(['2018-01-01 00:00:00', '2018-01-01 00:01:00',\n",
       "               '2018-01-01 00:02:00', '2018-01-01 00:03:00',\n",
       "               '2018-01-01 00:04:00', '2018-01-01 00:05:00',\n",
       "               '2018-01-01 00:06:00', '2018-01-01 00:07:00',\n",
       "               '2018-01-01 00:08:00', '2018-01-01 00:09:00',\n",
       "               ...\n",
       "               '2018-01-31 00:50:00', '2018-01-31 00:51:00',\n",
       "               '2018-01-31 00:52:00', '2018-01-31 00:53:00',\n",
       "               '2018-01-31 00:54:00', '2018-01-31 00:55:00',\n",
       "               '2018-01-31 00:56:00', '2018-01-31 00:57:00',\n",
       "               '2018-01-31 00:58:00', '2018-01-31 00:59:00'],\n",
       "              dtype='datetime64[ns]', name='date and time', length=1860, freq=None)"
      ]
     },
     "execution_count": 31,
     "metadata": {},
     "output_type": "execute_result"
    }
   ],
   "source": [
    "dt_idx[dt_idx.hour == 0]"
   ]
  },
  {
   "cell_type": "markdown",
   "metadata": {},
   "source": [
    "## Manipulation des données temporelles\n",
    "\n",
    "L'interet d'avoir des \"vrai\" dates en indices est que pandas est capable de les manipuler et fourni des méthodes spécifiques. Il est possible de ne récupérer qu'une journée particulière par exemple."
   ]
  },
  {
   "cell_type": "code",
   "execution_count": 36,
   "metadata": {},
   "outputs": [
    {
     "data": {
      "text/plain": [
       "temp_inside     23.0\n",
       "temp_outside     7.5\n",
       "Name: 2018-01-01 00:00:00, dtype: float64"
      ]
     },
     "execution_count": 36,
     "metadata": {},
     "output_type": "execute_result"
    }
   ],
   "source": [
    "df = pd.read_csv(\"../../data/temperatures.csv\", index_col=0)\n",
    "df.loc['2018-01-01 00:00:00']"
   ]
  },
  {
   "cell_type": "code",
   "execution_count": 45,
   "metadata": {},
   "outputs": [
    {
     "data": {
      "text/html": [
       "<div>\n",
       "<style scoped>\n",
       "    .dataframe tbody tr th:only-of-type {\n",
       "        vertical-align: middle;\n",
       "    }\n",
       "\n",
       "    .dataframe tbody tr th {\n",
       "        vertical-align: top;\n",
       "    }\n",
       "\n",
       "    .dataframe thead th {\n",
       "        text-align: right;\n",
       "    }\n",
       "</style>\n",
       "<table border=\"1\" class=\"dataframe\">\n",
       "  <thead>\n",
       "    <tr style=\"text-align: right;\">\n",
       "      <th></th>\n",
       "      <th>temp_inside</th>\n",
       "      <th>temp_outside</th>\n",
       "    </tr>\n",
       "    <tr>\n",
       "      <th>date and time</th>\n",
       "      <th></th>\n",
       "      <th></th>\n",
       "    </tr>\n",
       "  </thead>\n",
       "  <tbody>\n",
       "    <tr>\n",
       "      <td>2018-01-01 00:00:00</td>\n",
       "      <td>23.0</td>\n",
       "      <td>7.5</td>\n",
       "    </tr>\n",
       "    <tr>\n",
       "      <td>2018-01-01 00:01:00</td>\n",
       "      <td>23.0</td>\n",
       "      <td>7.5</td>\n",
       "    </tr>\n",
       "    <tr>\n",
       "      <td>2018-01-01 00:02:00</td>\n",
       "      <td>23.0</td>\n",
       "      <td>7.3</td>\n",
       "    </tr>\n",
       "    <tr>\n",
       "      <td>2018-01-01 00:03:00</td>\n",
       "      <td>23.0</td>\n",
       "      <td>7.4</td>\n",
       "    </tr>\n",
       "    <tr>\n",
       "      <td>2018-01-01 00:04:00</td>\n",
       "      <td>23.0</td>\n",
       "      <td>7.4</td>\n",
       "    </tr>\n",
       "    <tr>\n",
       "      <td>...</td>\n",
       "      <td>...</td>\n",
       "      <td>...</td>\n",
       "    </tr>\n",
       "    <tr>\n",
       "      <td>2018-01-01 23:55:00</td>\n",
       "      <td>23.0</td>\n",
       "      <td>5.0</td>\n",
       "    </tr>\n",
       "    <tr>\n",
       "      <td>2018-01-01 23:56:00</td>\n",
       "      <td>23.0</td>\n",
       "      <td>4.8</td>\n",
       "    </tr>\n",
       "    <tr>\n",
       "      <td>2018-01-01 23:57:00</td>\n",
       "      <td>23.0</td>\n",
       "      <td>4.8</td>\n",
       "    </tr>\n",
       "    <tr>\n",
       "      <td>2018-01-01 23:58:00</td>\n",
       "      <td>23.0</td>\n",
       "      <td>4.9</td>\n",
       "    </tr>\n",
       "    <tr>\n",
       "      <td>2018-01-01 23:59:00</td>\n",
       "      <td>23.0</td>\n",
       "      <td>4.9</td>\n",
       "    </tr>\n",
       "  </tbody>\n",
       "</table>\n",
       "<p>1440 rows × 2 columns</p>\n",
       "</div>"
      ],
      "text/plain": [
       "                     temp_inside  temp_outside\n",
       "date and time                                 \n",
       "2018-01-01 00:00:00         23.0           7.5\n",
       "2018-01-01 00:01:00         23.0           7.5\n",
       "2018-01-01 00:02:00         23.0           7.3\n",
       "2018-01-01 00:03:00         23.0           7.4\n",
       "2018-01-01 00:04:00         23.0           7.4\n",
       "...                          ...           ...\n",
       "2018-01-01 23:55:00         23.0           5.0\n",
       "2018-01-01 23:56:00         23.0           4.8\n",
       "2018-01-01 23:57:00         23.0           4.8\n",
       "2018-01-01 23:58:00         23.0           4.9\n",
       "2018-01-01 23:59:00         23.0           4.9\n",
       "\n",
       "[1440 rows x 2 columns]"
      ]
     },
     "execution_count": 45,
     "metadata": {},
     "output_type": "execute_result"
    }
   ],
   "source": [
    "df = pd.read_csv(\"../../data/temperatures.csv\", index_col=0, parse_dates=True)\n",
    "df['2018-01-01']"
   ]
  },
  {
   "cell_type": "markdown",
   "metadata": {},
   "source": [
    "Il est également possible de récupérer des infos sur les dates via des méthodes ou propriétés du DateTimeIndex."
   ]
  },
  {
   "cell_type": "code",
   "execution_count": 43,
   "metadata": {},
   "outputs": [],
   "source": [
    "hour_of_day = df.index.hour"
   ]
  },
  {
   "cell_type": "code",
   "execution_count": 44,
   "metadata": {},
   "outputs": [
    {
     "data": {
      "text/plain": [
       "temp_inside     23.138226\n",
       "temp_outside     4.460645\n",
       "dtype: float64"
      ]
     },
     "execution_count": 44,
     "metadata": {},
     "output_type": "execute_result"
    }
   ],
   "source": [
    "df[hour_of_day == 6].mean()"
   ]
  },
  {
   "cell_type": "markdown",
   "metadata": {},
   "source": [
    "A noter que les interpolations seront au courant de l'echelle temporelle et géreront correctement des pas de temps variables."
   ]
  },
  {
   "cell_type": "markdown",
   "metadata": {},
   "source": [
    "## Rééchantillonage\n",
    "\n",
    "Pandas propose une interface de rééchantillonage des données temporelles avec `df.resample()`. C'est une `groupby` spécialisé dans les données temporelles et qui est très utile pour rééchantillonner les données. Comme avec `groupby`, il faudra fournir une fonction d'aggrégat pour diminuer la fréquence d'échantillonage, ou une méthode pour remplacer les données manquantes pour augmenter la fréquence d'échantillonage."
   ]
  },
  {
   "cell_type": "code",
   "execution_count": 46,
   "metadata": {},
   "outputs": [
    {
     "data": {
      "text/plain": [
       "<pandas.core.resample.DatetimeIndexResampler object at 0x7f38ebd49b38>"
      ]
     },
     "execution_count": 46,
     "metadata": {},
     "output_type": "execute_result"
    }
   ],
   "source": [
    "df.resample(\"30min\")"
   ]
  },
  {
   "cell_type": "code",
   "execution_count": 52,
   "metadata": {},
   "outputs": [
    {
     "data": {
      "text/html": [
       "<div>\n",
       "<style scoped>\n",
       "    .dataframe tbody tr th:only-of-type {\n",
       "        vertical-align: middle;\n",
       "    }\n",
       "\n",
       "    .dataframe tbody tr th {\n",
       "        vertical-align: top;\n",
       "    }\n",
       "\n",
       "    .dataframe thead tr th {\n",
       "        text-align: left;\n",
       "    }\n",
       "\n",
       "    .dataframe thead tr:last-of-type th {\n",
       "        text-align: right;\n",
       "    }\n",
       "</style>\n",
       "<table border=\"1\" class=\"dataframe\">\n",
       "  <thead>\n",
       "    <tr>\n",
       "      <th></th>\n",
       "      <th colspan=\"2\" halign=\"left\">temp_inside</th>\n",
       "    </tr>\n",
       "    <tr>\n",
       "      <th></th>\n",
       "      <th>mean</th>\n",
       "      <th>std</th>\n",
       "    </tr>\n",
       "    <tr>\n",
       "      <th>date and time</th>\n",
       "      <th></th>\n",
       "      <th></th>\n",
       "    </tr>\n",
       "  </thead>\n",
       "  <tbody>\n",
       "    <tr>\n",
       "      <td>2018-01-01 00:00:00</td>\n",
       "      <td>22.983333</td>\n",
       "      <td>0.053067</td>\n",
       "    </tr>\n",
       "    <tr>\n",
       "      <td>2018-01-01 00:30:00</td>\n",
       "      <td>22.736667</td>\n",
       "      <td>0.099943</td>\n",
       "    </tr>\n",
       "    <tr>\n",
       "      <td>2018-01-01 01:00:00</td>\n",
       "      <td>22.523333</td>\n",
       "      <td>0.097143</td>\n",
       "    </tr>\n",
       "    <tr>\n",
       "      <td>2018-01-01 01:30:00</td>\n",
       "      <td>22.513333</td>\n",
       "      <td>0.100801</td>\n",
       "    </tr>\n",
       "    <tr>\n",
       "      <td>2018-01-01 02:00:00</td>\n",
       "      <td>22.636667</td>\n",
       "      <td>0.071840</td>\n",
       "    </tr>\n",
       "    <tr>\n",
       "      <td>...</td>\n",
       "      <td>...</td>\n",
       "      <td>...</td>\n",
       "    </tr>\n",
       "    <tr>\n",
       "      <td>2018-01-31 21:30:00</td>\n",
       "      <td>23.800000</td>\n",
       "      <td>0.052523</td>\n",
       "    </tr>\n",
       "    <tr>\n",
       "      <td>2018-01-31 22:00:00</td>\n",
       "      <td>23.760000</td>\n",
       "      <td>0.183077</td>\n",
       "    </tr>\n",
       "    <tr>\n",
       "      <td>2018-01-31 22:30:00</td>\n",
       "      <td>23.343333</td>\n",
       "      <td>0.116511</td>\n",
       "    </tr>\n",
       "    <tr>\n",
       "      <td>2018-01-31 23:00:00</td>\n",
       "      <td>23.073333</td>\n",
       "      <td>0.098027</td>\n",
       "    </tr>\n",
       "    <tr>\n",
       "      <td>2018-01-31 23:30:00</td>\n",
       "      <td>23.000000</td>\n",
       "      <td>0.000000</td>\n",
       "    </tr>\n",
       "  </tbody>\n",
       "</table>\n",
       "<p>1488 rows × 2 columns</p>\n",
       "</div>"
      ],
      "text/plain": [
       "                    temp_inside          \n",
       "                           mean       std\n",
       "date and time                            \n",
       "2018-01-01 00:00:00   22.983333  0.053067\n",
       "2018-01-01 00:30:00   22.736667  0.099943\n",
       "2018-01-01 01:00:00   22.523333  0.097143\n",
       "2018-01-01 01:30:00   22.513333  0.100801\n",
       "2018-01-01 02:00:00   22.636667  0.071840\n",
       "...                         ...       ...\n",
       "2018-01-31 21:30:00   23.800000  0.052523\n",
       "2018-01-31 22:00:00   23.760000  0.183077\n",
       "2018-01-31 22:30:00   23.343333  0.116511\n",
       "2018-01-31 23:00:00   23.073333  0.098027\n",
       "2018-01-31 23:30:00   23.000000  0.000000\n",
       "\n",
       "[1488 rows x 2 columns]"
      ]
     },
     "execution_count": 52,
     "metadata": {},
     "output_type": "execute_result"
    }
   ],
   "source": [
    "df.resample(\"30min\").agg({\"temp_inside\": [\"mean\", \"std\"]})"
   ]
  },
  {
   "cell_type": "code",
   "execution_count": 53,
   "metadata": {},
   "outputs": [
    {
     "data": {
      "text/html": [
       "<div>\n",
       "<style scoped>\n",
       "    .dataframe tbody tr th:only-of-type {\n",
       "        vertical-align: middle;\n",
       "    }\n",
       "\n",
       "    .dataframe tbody tr th {\n",
       "        vertical-align: top;\n",
       "    }\n",
       "\n",
       "    .dataframe thead tr th {\n",
       "        text-align: left;\n",
       "    }\n",
       "\n",
       "    .dataframe thead tr:last-of-type th {\n",
       "        text-align: right;\n",
       "    }\n",
       "</style>\n",
       "<table border=\"1\" class=\"dataframe\">\n",
       "  <thead>\n",
       "    <tr>\n",
       "      <th></th>\n",
       "      <th colspan=\"3\" halign=\"left\">temp_inside</th>\n",
       "      <th colspan=\"2\" halign=\"left\">temp_outside</th>\n",
       "    </tr>\n",
       "    <tr>\n",
       "      <th></th>\n",
       "      <th>min</th>\n",
       "      <th>mean</th>\n",
       "      <th>max</th>\n",
       "      <th>median</th>\n",
       "      <th>std</th>\n",
       "    </tr>\n",
       "    <tr>\n",
       "      <th>date and time</th>\n",
       "      <th></th>\n",
       "      <th></th>\n",
       "      <th></th>\n",
       "      <th></th>\n",
       "      <th></th>\n",
       "    </tr>\n",
       "  </thead>\n",
       "  <tbody>\n",
       "    <tr>\n",
       "      <td>2018-01-01 00:00:00</td>\n",
       "      <td>22.8</td>\n",
       "      <td>22.983333</td>\n",
       "      <td>23.0</td>\n",
       "      <td>7.10</td>\n",
       "      <td>0.173570</td>\n",
       "    </tr>\n",
       "    <tr>\n",
       "      <td>2018-01-01 00:30:00</td>\n",
       "      <td>22.6</td>\n",
       "      <td>22.736667</td>\n",
       "      <td>22.9</td>\n",
       "      <td>6.35</td>\n",
       "      <td>0.286577</td>\n",
       "    </tr>\n",
       "    <tr>\n",
       "      <td>2018-01-01 01:00:00</td>\n",
       "      <td>22.4</td>\n",
       "      <td>22.523333</td>\n",
       "      <td>22.6</td>\n",
       "      <td>5.70</td>\n",
       "      <td>0.347884</td>\n",
       "    </tr>\n",
       "    <tr>\n",
       "      <td>2018-01-01 01:30:00</td>\n",
       "      <td>22.4</td>\n",
       "      <td>22.513333</td>\n",
       "      <td>22.6</td>\n",
       "      <td>5.70</td>\n",
       "      <td>0.154213</td>\n",
       "    </tr>\n",
       "    <tr>\n",
       "      <td>2018-01-01 02:00:00</td>\n",
       "      <td>22.6</td>\n",
       "      <td>22.636667</td>\n",
       "      <td>22.8</td>\n",
       "      <td>5.25</td>\n",
       "      <td>0.405933</td>\n",
       "    </tr>\n",
       "    <tr>\n",
       "      <td>...</td>\n",
       "      <td>...</td>\n",
       "      <td>...</td>\n",
       "      <td>...</td>\n",
       "      <td>...</td>\n",
       "      <td>...</td>\n",
       "    </tr>\n",
       "    <tr>\n",
       "      <td>2018-01-31 21:30:00</td>\n",
       "      <td>23.6</td>\n",
       "      <td>23.800000</td>\n",
       "      <td>24.0</td>\n",
       "      <td>6.80</td>\n",
       "      <td>0.261406</td>\n",
       "    </tr>\n",
       "    <tr>\n",
       "      <td>2018-01-31 22:00:00</td>\n",
       "      <td>23.6</td>\n",
       "      <td>23.760000</td>\n",
       "      <td>24.2</td>\n",
       "      <td>6.90</td>\n",
       "      <td>0.279347</td>\n",
       "    </tr>\n",
       "    <tr>\n",
       "      <td>2018-01-31 22:30:00</td>\n",
       "      <td>23.2</td>\n",
       "      <td>23.343333</td>\n",
       "      <td>23.6</td>\n",
       "      <td>8.10</td>\n",
       "      <td>0.273672</td>\n",
       "    </tr>\n",
       "    <tr>\n",
       "      <td>2018-01-31 23:00:00</td>\n",
       "      <td>23.0</td>\n",
       "      <td>23.073333</td>\n",
       "      <td>23.2</td>\n",
       "      <td>8.45</td>\n",
       "      <td>0.158332</td>\n",
       "    </tr>\n",
       "    <tr>\n",
       "      <td>2018-01-31 23:30:00</td>\n",
       "      <td>23.0</td>\n",
       "      <td>23.000000</td>\n",
       "      <td>23.0</td>\n",
       "      <td>8.60</td>\n",
       "      <td>0.098786</td>\n",
       "    </tr>\n",
       "  </tbody>\n",
       "</table>\n",
       "<p>1488 rows × 5 columns</p>\n",
       "</div>"
      ],
      "text/plain": [
       "                    temp_inside                  temp_outside          \n",
       "                            min       mean   max       median       std\n",
       "date and time                                                          \n",
       "2018-01-01 00:00:00        22.8  22.983333  23.0         7.10  0.173570\n",
       "2018-01-01 00:30:00        22.6  22.736667  22.9         6.35  0.286577\n",
       "2018-01-01 01:00:00        22.4  22.523333  22.6         5.70  0.347884\n",
       "2018-01-01 01:30:00        22.4  22.513333  22.6         5.70  0.154213\n",
       "2018-01-01 02:00:00        22.6  22.636667  22.8         5.25  0.405933\n",
       "...                         ...        ...   ...          ...       ...\n",
       "2018-01-31 21:30:00        23.6  23.800000  24.0         6.80  0.261406\n",
       "2018-01-31 22:00:00        23.6  23.760000  24.2         6.90  0.279347\n",
       "2018-01-31 22:30:00        23.2  23.343333  23.6         8.10  0.273672\n",
       "2018-01-31 23:00:00        23.0  23.073333  23.2         8.45  0.158332\n",
       "2018-01-31 23:30:00        23.0  23.000000  23.0         8.60  0.098786\n",
       "\n",
       "[1488 rows x 5 columns]"
      ]
     },
     "execution_count": 53,
     "metadata": {},
     "output_type": "execute_result"
    }
   ],
   "source": [
    "df.resample(\"30min\").agg({\"temp_inside\": (\"min\", \"mean\", \"max\"), \"temp_outside\": (\"median\", \"std\")})"
   ]
  },
  {
   "cell_type": "markdown",
   "metadata": {},
   "source": [
    "Si le rééchantillonage est plus important, il des `nan` seront générés. Ils devront être gérés en utilisant `interpolate` sur le groupby."
   ]
  },
  {
   "cell_type": "code",
   "execution_count": 54,
   "metadata": {},
   "outputs": [
    {
     "data": {
      "text/html": [
       "<div>\n",
       "<style scoped>\n",
       "    .dataframe tbody tr th:only-of-type {\n",
       "        vertical-align: middle;\n",
       "    }\n",
       "\n",
       "    .dataframe tbody tr th {\n",
       "        vertical-align: top;\n",
       "    }\n",
       "\n",
       "    .dataframe thead th {\n",
       "        text-align: right;\n",
       "    }\n",
       "</style>\n",
       "<table border=\"1\" class=\"dataframe\">\n",
       "  <thead>\n",
       "    <tr style=\"text-align: right;\">\n",
       "      <th></th>\n",
       "      <th>temp_inside</th>\n",
       "      <th>temp_outside</th>\n",
       "    </tr>\n",
       "    <tr>\n",
       "      <th>date and time</th>\n",
       "      <th></th>\n",
       "      <th></th>\n",
       "    </tr>\n",
       "  </thead>\n",
       "  <tbody>\n",
       "    <tr>\n",
       "      <td>2018-01-01 00:00:00</td>\n",
       "      <td>23.0</td>\n",
       "      <td>7.5</td>\n",
       "    </tr>\n",
       "    <tr>\n",
       "      <td>2018-01-01 00:00:30</td>\n",
       "      <td>23.0</td>\n",
       "      <td>7.5</td>\n",
       "    </tr>\n",
       "    <tr>\n",
       "      <td>2018-01-01 00:01:00</td>\n",
       "      <td>23.0</td>\n",
       "      <td>7.5</td>\n",
       "    </tr>\n",
       "    <tr>\n",
       "      <td>2018-01-01 00:01:30</td>\n",
       "      <td>23.0</td>\n",
       "      <td>7.5</td>\n",
       "    </tr>\n",
       "    <tr>\n",
       "      <td>2018-01-01 00:02:00</td>\n",
       "      <td>23.0</td>\n",
       "      <td>7.3</td>\n",
       "    </tr>\n",
       "    <tr>\n",
       "      <td>...</td>\n",
       "      <td>...</td>\n",
       "      <td>...</td>\n",
       "    </tr>\n",
       "    <tr>\n",
       "      <td>2018-01-31 23:57:00</td>\n",
       "      <td>23.0</td>\n",
       "      <td>8.8</td>\n",
       "    </tr>\n",
       "    <tr>\n",
       "      <td>2018-01-31 23:57:30</td>\n",
       "      <td>23.0</td>\n",
       "      <td>8.8</td>\n",
       "    </tr>\n",
       "    <tr>\n",
       "      <td>2018-01-31 23:58:00</td>\n",
       "      <td>23.0</td>\n",
       "      <td>8.7</td>\n",
       "    </tr>\n",
       "    <tr>\n",
       "      <td>2018-01-31 23:58:30</td>\n",
       "      <td>23.0</td>\n",
       "      <td>8.7</td>\n",
       "    </tr>\n",
       "    <tr>\n",
       "      <td>2018-01-31 23:59:00</td>\n",
       "      <td>23.0</td>\n",
       "      <td>8.6</td>\n",
       "    </tr>\n",
       "  </tbody>\n",
       "</table>\n",
       "<p>89279 rows × 2 columns</p>\n",
       "</div>"
      ],
      "text/plain": [
       "                     temp_inside  temp_outside\n",
       "date and time                                 \n",
       "2018-01-01 00:00:00         23.0           7.5\n",
       "2018-01-01 00:00:30         23.0           7.5\n",
       "2018-01-01 00:01:00         23.0           7.5\n",
       "2018-01-01 00:01:30         23.0           7.5\n",
       "2018-01-01 00:02:00         23.0           7.3\n",
       "...                          ...           ...\n",
       "2018-01-31 23:57:00         23.0           8.8\n",
       "2018-01-31 23:57:30         23.0           8.8\n",
       "2018-01-31 23:58:00         23.0           8.7\n",
       "2018-01-31 23:58:30         23.0           8.7\n",
       "2018-01-31 23:59:00         23.0           8.6\n",
       "\n",
       "[89279 rows x 2 columns]"
      ]
     },
     "execution_count": 54,
     "metadata": {},
     "output_type": "execute_result"
    }
   ],
   "source": [
    "df.resample(\"30s\").interpolate(method=\"nearest\")"
   ]
  },
  {
   "cell_type": "code",
   "execution_count": 60,
   "metadata": {},
   "outputs": [],
   "source": [
    "idx = pd.date_range(start=\"2018-01-01\", end=\"2018-01-31\", freq=\"1h\")"
   ]
  },
  {
   "cell_type": "code",
   "execution_count": 61,
   "metadata": {},
   "outputs": [
    {
     "data": {
      "text/html": [
       "<div>\n",
       "<style scoped>\n",
       "    .dataframe tbody tr th:only-of-type {\n",
       "        vertical-align: middle;\n",
       "    }\n",
       "\n",
       "    .dataframe tbody tr th {\n",
       "        vertical-align: top;\n",
       "    }\n",
       "\n",
       "    .dataframe thead th {\n",
       "        text-align: right;\n",
       "    }\n",
       "</style>\n",
       "<table border=\"1\" class=\"dataframe\">\n",
       "  <thead>\n",
       "    <tr style=\"text-align: right;\">\n",
       "      <th></th>\n",
       "      <th>temp_inside</th>\n",
       "      <th>temp_outside</th>\n",
       "    </tr>\n",
       "  </thead>\n",
       "  <tbody>\n",
       "    <tr>\n",
       "      <td>2018-01-01 00:00:00</td>\n",
       "      <td>23.0</td>\n",
       "      <td>7.5</td>\n",
       "    </tr>\n",
       "    <tr>\n",
       "      <td>2018-01-01 01:00:00</td>\n",
       "      <td>22.6</td>\n",
       "      <td>6.2</td>\n",
       "    </tr>\n",
       "    <tr>\n",
       "      <td>2018-01-01 02:00:00</td>\n",
       "      <td>22.6</td>\n",
       "      <td>5.9</td>\n",
       "    </tr>\n",
       "    <tr>\n",
       "      <td>2018-01-01 03:00:00</td>\n",
       "      <td>22.8</td>\n",
       "      <td>6.0</td>\n",
       "    </tr>\n",
       "    <tr>\n",
       "      <td>2018-01-01 04:00:00</td>\n",
       "      <td>22.8</td>\n",
       "      <td>5.1</td>\n",
       "    </tr>\n",
       "    <tr>\n",
       "      <td>...</td>\n",
       "      <td>...</td>\n",
       "      <td>...</td>\n",
       "    </tr>\n",
       "    <tr>\n",
       "      <td>2018-01-30 20:00:00</td>\n",
       "      <td>23.9</td>\n",
       "      <td>6.0</td>\n",
       "    </tr>\n",
       "    <tr>\n",
       "      <td>2018-01-30 21:00:00</td>\n",
       "      <td>24.0</td>\n",
       "      <td>6.0</td>\n",
       "    </tr>\n",
       "    <tr>\n",
       "      <td>2018-01-30 22:00:00</td>\n",
       "      <td>23.0</td>\n",
       "      <td>6.3</td>\n",
       "    </tr>\n",
       "    <tr>\n",
       "      <td>2018-01-30 23:00:00</td>\n",
       "      <td>22.6</td>\n",
       "      <td>5.6</td>\n",
       "    </tr>\n",
       "    <tr>\n",
       "      <td>2018-01-31 00:00:00</td>\n",
       "      <td>22.0</td>\n",
       "      <td>5.7</td>\n",
       "    </tr>\n",
       "  </tbody>\n",
       "</table>\n",
       "<p>721 rows × 2 columns</p>\n",
       "</div>"
      ],
      "text/plain": [
       "                     temp_inside  temp_outside\n",
       "2018-01-01 00:00:00         23.0           7.5\n",
       "2018-01-01 01:00:00         22.6           6.2\n",
       "2018-01-01 02:00:00         22.6           5.9\n",
       "2018-01-01 03:00:00         22.8           6.0\n",
       "2018-01-01 04:00:00         22.8           5.1\n",
       "...                          ...           ...\n",
       "2018-01-30 20:00:00         23.9           6.0\n",
       "2018-01-30 21:00:00         24.0           6.0\n",
       "2018-01-30 22:00:00         23.0           6.3\n",
       "2018-01-30 23:00:00         22.6           5.6\n",
       "2018-01-31 00:00:00         22.0           5.7\n",
       "\n",
       "[721 rows x 2 columns]"
      ]
     },
     "execution_count": 61,
     "metadata": {},
     "output_type": "execute_result"
    }
   ],
   "source": [
    "df.reindex(index=idx, method=\"nearest\")"
   ]
  },
  {
   "cell_type": "code",
   "execution_count": null,
   "metadata": {},
   "outputs": [],
   "source": []
  }
 ],
 "metadata": {
  "kernelspec": {
   "display_name": "Python [conda env:stats]",
   "language": "python",
   "name": "conda-env-stats-py"
  },
  "language_info": {
   "codemirror_mode": {
    "name": "ipython",
    "version": 3
   },
   "file_extension": ".py",
   "mimetype": "text/x-python",
   "name": "python",
   "nbconvert_exporter": "python",
   "pygments_lexer": "ipython3",
   "version": "3.7.3"
  }
 },
 "nbformat": 4,
 "nbformat_minor": 4
}
