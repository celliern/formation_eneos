{
 "cells": [
  {
   "cell_type": "markdown",
   "metadata": {},
   "source": [
    "# Fondamentaux - données tabulaire\n",
    "\n",
    "Comment gérer des données tabulaires en Python?\n",
    "\n",
    "- Qu'est-ce qu'une librairies `python`\n",
    "- Importer une librairie et utiliser les fonctions qu'elle contient\n",
    "- Lire des données tabulaires depuis un fichier dans un programme\n",
    "- Selectionner une sous-partie des données\n",
    "- Effectuer des opérations sur un ensemble de données"
   ]
  },
  {
   "cell_type": "markdown",
   "metadata": {},
   "source": [
    "## Un mot sur les librairies\n",
    "\n",
    "La richesse de l'écosystème python provient en partie de ses librairies, qu'elles soient incluent ([librairie standard](https://docs.python.org/3/library/) ou `stdlib`, pas besoin de les installer, juste de les importer) ou tierce partie (il faudra alors les installer).\n",
    "\n",
    "Avec Anaconda, une partie des librairies tierces **sont déjà installés**, en particulier celles utile pour le calcul scientifique. **Ce ne sera pas forcément le cas**.\n",
    "\n",
    "L'installation d'une librairie se fait avec `pip`, ou avec `conda` si Anaconda est disponible, et ce en ligne de commande (avec Anaconda, cherchez **Anaconda Prompt** dans le menu démarrer).\n",
    "\n",
    "```bash\n",
    "pip install my_lib\n",
    "# OU\n",
    "conda install my_lib\n",
    "```\n",
    "\n",
    "`conda` permet d'installer des librairies (ou des logiciels) qui sont pas dans l'écosystème Python, au contraire de `pip` qui est spécifique à Python.\n",
    "\n",
    "**Ne réinventez pas la roue : si vous avez besoin d'une fonctionnalité qui est disponible dans une librairie de *bonne qualité* ou dans la librairie standard, utilisez la! Passez *un peu* de temps à fouiller ce qui existe vous fera gagner du temps et en robustesse.**\n",
    "\n",
    "Il est intéressant d'implémenter une fonctionnalité par soi-même pour mieux comprendre, mais revenez ensuite aux librairies déjà existante. Quelques exceptions : réduire les dépendance (dans le cas d'un produit final qu'il faudra maintenir), ou si les alternatives ne sont pas satisfaisantes."
   ]
  },
  {
   "cell_type": "markdown",
   "metadata": {},
   "source": [
    "## Numpy pour manipuler les données tabulaires\n",
    "\n",
    "Il va falloir dans un premier temps importer `numpy`. Nous allons ici rapidement introduire cette librairie, une autre séance sera mis en place pour aller plus loin.\n",
    "\n",
    "C'est la **brique de base** du calcul scientifique en python, elle permet de manipuler les **données tabulaires** de façon efficace. L'objet de base est l'array numpy `numpy.ndarray`.\n",
    "\n",
    "L'objet diffère des listes par l'homogénéité des données qu'elle contient. Un **ndarray ne peut contenir qu'un seul type de données**. Un ndarray d'entier ne pourra pas contenir de flottants (à moins de convertir l'intégralité de ses entiers en flottants). C'est l'extension à un nombre arbitraire de dimension d'un vecteur (ndim=1), d'une matrice (ndim=2) ou d'une hypermatrice (ndim=3).\n",
    "\n",
    "Ce manque de souplesse dans le type de donnée est dû à l'implémentation de `numpy` en C. Cela permet de manipuler des données tabulaires de façon très performantes tout en gardant la versatilisé de Python.\n",
    "\n",
    "### import de librairie et alias\n",
    "\n",
    "Le formalisme de base pour importer une librairie est \n",
    "\n",
    "```python\n",
    "import my_lib\n",
    "```\n",
    "\n",
    "et les fonctions ou classes contenus dans le module seront alors disponible via `my_lib.a_function()`. `my_lib` est appelé un *namespace* et permet de séparer des fonctions dans différents conteneurs. De cette façon, il est possible d'importer des fonctions provenant de différents modules mais ayant le même nom.\n",
    "\n",
    "```python\n",
    "import numpy\n",
    "import math\n",
    "\n",
    "math.sin(3)\n",
    "numpy.sin(3)\n",
    "```\n",
    "\n",
    "\n",
    "Il est également possible d'accéder au module au travers d'un alias :\n",
    "\n",
    "```python\n",
    "import a_lib_with_a_very_long_name as short_lib\n",
    "```\n",
    "\n",
    "les fonctions ou classes contenus dans le module seront alors disponible via `short_lib.a_function()`.\n",
    "\n",
    "Certains alias sont très courant dans la communauté scientifique :\n",
    "\n",
    "```python\n",
    "import numpy as np\n",
    "import matplotlib.pyplot as plt\n",
    "import pandas as pd\n",
    "```\n",
    "\n",
    "Enfin, il est possible d'importer une (ou plusieurs) fonction ou sous-modules uniquement avec le formalisme\n",
    "\n",
    "```python\n",
    "from my_lib import my_function, MyClass\n",
    "```\n",
    "\n",
    "les fonctions importés sont disponibles directement (`a_function()`).\n",
    "\n",
    "Vous pourrez également rencontrer le formalisme suivant\n",
    "\n",
    "```python\n",
    "from my_lib import *\n",
    "```\n",
    "\n",
    "qui importera l'intégralités des fonctions disponibles dans le *namespace global*.\n",
    "\n",
    "***C'est une très mauvaise pratique qui est à proscrire absolument.***"
   ]
  },
  {
   "cell_type": "code",
   "execution_count": 138,
   "metadata": {},
   "outputs": [],
   "source": [
    "import numpy as np"
   ]
  },
  {
   "cell_type": "markdown",
   "metadata": {},
   "source": [
    "Il est possible de lire un fichier texte contenant des donnée directement avec `numpy`. Un array numpy contenant les données sera alors créé. Nous allons assigner cet array dans une variable pour nous en servir."
   ]
  },
  {
   "cell_type": "code",
   "execution_count": 139,
   "metadata": {},
   "outputs": [],
   "source": [
    "data = np.loadtxt(\"../../data/temperatures_np.csv\", delimiter=\",\")"
   ]
  },
  {
   "cell_type": "markdown",
   "metadata": {},
   "source": [
    "Les données sont en mémoire, il est possible de les manipuler."
   ]
  },
  {
   "cell_type": "code",
   "execution_count": 140,
   "metadata": {},
   "outputs": [
    {
     "name": "stdout",
     "output_type": "stream",
     "text": [
      "<class 'numpy.ndarray'>\n"
     ]
    }
   ],
   "source": [
    "print(type(data))"
   ]
  },
  {
   "cell_type": "markdown",
   "metadata": {},
   "source": [
    "Comme décrit plus haut, les données sont stockés dans un `numpu.ndarray`. Il est possible de vérifier le type des données sous-facente :"
   ]
  },
  {
   "cell_type": "code",
   "execution_count": 141,
   "metadata": {},
   "outputs": [
    {
     "name": "stdout",
     "output_type": "stream",
     "text": [
      "float64\n"
     ]
    }
   ],
   "source": [
    "print(data.dtype)"
   ]
  },
  {
   "cell_type": "markdown",
   "metadata": {},
   "source": [
    "La méthode `ndarray.shape` renvoie les dimensions d'un `ndarray` sous la forme d'un `tuple`."
   ]
  },
  {
   "cell_type": "code",
   "execution_count": 142,
   "metadata": {},
   "outputs": [
    {
     "name": "stdout",
     "output_type": "stream",
     "text": [
      "(44640, 2)\n"
     ]
    }
   ],
   "source": [
    "print(data.shape)"
   ]
  },
  {
   "cell_type": "markdown",
   "metadata": {},
   "source": [
    "Les données sont la température météo extérieur et la température intérieur (provenant d'un capteur de température), avec une résolution d'une minute sur un mois de Janvier. Il est possible d'accéder aux données en `indexant` les données. Nous avons ici deux dimension, il faut fournir deux indices."
   ]
  },
  {
   "cell_type": "code",
   "execution_count": 143,
   "metadata": {},
   "outputs": [
    {
     "name": "stdout",
     "output_type": "stream",
     "text": [
      "Première valeur: 23.0\n"
     ]
    }
   ],
   "source": [
    "print('Première valeur:', data[0, 0])"
   ]
  },
  {
   "cell_type": "code",
   "execution_count": 144,
   "metadata": {},
   "outputs": [
    {
     "name": "stdout",
     "output_type": "stream",
     "text": [
      "Valeur centrale: 23.8\n"
     ]
    }
   ],
   "source": [
    "print('Valeur centrale:', data[44640 // 2, 0])"
   ]
  },
  {
   "cell_type": "markdown",
   "metadata": {},
   "source": [
    "A noter : **les indices commencent à 0** et suivent la notation **lignes, colonnes**."
   ]
  },
  {
   "cell_type": "markdown",
   "metadata": {},
   "source": [
    "## Slicing\n",
    "\n",
    "Nous avons vu comment indexer nos données pour obtenir une seule valeur. Il est possible d'accéder à une sous-partie des valeur avec la syntaxe de slicing `[start:stop:step]`, la borne `stop` étant exclue."
   ]
  },
  {
   "cell_type": "code",
   "execution_count": 145,
   "metadata": {},
   "outputs": [
    {
     "name": "stdout",
     "output_type": "stream",
     "text": [
      "[23. 23. 23. 23. 23.]\n"
     ]
    }
   ],
   "source": [
    "print(data[0:5, 0])"
   ]
  },
  {
   "cell_type": "markdown",
   "metadata": {},
   "source": [
    "Chaque élément de `[start:stop:step]` est optionnel, et possède une valeur par défaut, respectivement 0, N et 1, N étant le index du tableau."
   ]
  },
  {
   "cell_type": "code",
   "execution_count": 146,
   "metadata": {},
   "outputs": [
    {
     "name": "stdout",
     "output_type": "stream",
     "text": [
      "[7.5 7.5 7.3 7.4 7.4]\n",
      "[7.5 7.5 7.3 7.4 7.4]\n"
     ]
    }
   ],
   "source": [
    "print(data[:5, 1], data[0:5:1, 1], sep=\"\\n\")"
   ]
  },
  {
   "cell_type": "markdown",
   "metadata": {},
   "source": [
    "De cette façon, il est possible de récupérer l'intégralité d'une dimension avec la syntaxe `[:]`"
   ]
  },
  {
   "cell_type": "code",
   "execution_count": 147,
   "metadata": {},
   "outputs": [
    {
     "name": "stdout",
     "output_type": "stream",
     "text": [
      "[7.5 7.5 7.3 ... 8.8 8.7 8.6]\n"
     ]
    }
   ],
   "source": [
    "print(data[:, 1])"
   ]
  },
  {
   "cell_type": "markdown",
   "metadata": {},
   "source": [
    "Il est possible également d'exclure les indices des dernières dimension : dans ce cas, l'ensemble de ces dimensions seront récupérés"
   ]
  },
  {
   "cell_type": "code",
   "execution_count": 148,
   "metadata": {},
   "outputs": [
    {
     "name": "stdout",
     "output_type": "stream",
     "text": [
      "[[23.   7.5]\n",
      " [23.   7.5]\n",
      " [23.   7.3]\n",
      " [23.   7.4]\n",
      " [23.   7.4]]\n"
     ]
    }
   ],
   "source": [
    "print(data[:5])"
   ]
  },
  {
   "cell_type": "markdown",
   "metadata": {},
   "source": [
    "## Analyse des données"
   ]
  },
  {
   "cell_type": "markdown",
   "metadata": {},
   "source": [
    "Numpy contient un certain nombre de fonctions très utiles. Ainsi, pour récupérer la valeur moyenne des données :"
   ]
  },
  {
   "cell_type": "code",
   "execution_count": 149,
   "metadata": {},
   "outputs": [
    {
     "name": "stdout",
     "output_type": "stream",
     "text": [
      "14.830828293010752\n",
      "[23.48327061  6.17838598]\n",
      "[23.48327061  6.17838598]\n"
     ]
    }
   ],
   "source": [
    "print(np.mean(data))\n",
    "# pour effectuer la moyenne sur un axe seulement\n",
    "print(np.mean(data, axis=0))\n",
    "# la moyenne est accessible en tant que fonction numpy, ou en tant que méthode des array.\n",
    "print(data.mean(axis=0))"
   ]
  },
  {
   "cell_type": "markdown",
   "metadata": {},
   "source": [
    "`np.mean` est une fonction : c'est un objet qui prendra des arguments en entrée et renverra une ou plusieurs valeur. Il existe des fonctions qui ne prennent aucun argument en entrée (les parenthèses sont tout de même nécessaire pour *appeler* la fonction), et d'autres qui ne renvoient aucunes valeurs (un objet `None`). Les *méthodes* sont des fonctions associé à une instance de classe, comme une chaine de caractère... ou un array numpy, comme pour `my_data.mean()`.\n",
    "\n",
    "Pour connaitre la documentation interne d'une fonction, vous pouvez utiliser la fonction `help`. Essayez par exemple `help(np.mean)` !\n",
    "\n",
    "Sur une session interactive (un notebook jupyter ou IPython par exemple), il est possible d'accéder aux argument avec la touche `Tab`, et la documentation avec `Maj+Tab` après la première parenthèse d'une fonction. `Tab` fonctionne également pour compléter un nom de variable, une liste de fonction d'un module ..."
   ]
  },
  {
   "cell_type": "code",
   "execution_count": 150,
   "metadata": {},
   "outputs": [],
   "source": [
    "T_in, T_out = data.T"
   ]
  },
  {
   "cell_type": "markdown",
   "metadata": {},
   "source": [
    "Nous avons effectué ici deux opération :\n",
    "- Nous avons transposé l'array data, qui est passé d'une dimension (N, 2) à (2, N).\n",
    "- Nous avons \"unpacké\" (on parle aussi d'assignement multiple) ces deux dimension dans deux variables différentes, T_in et T_out."
   ]
  },
  {
   "cell_type": "code",
   "execution_count": 151,
   "metadata": {},
   "outputs": [
    {
     "name": "stdout",
     "output_type": "stream",
     "text": [
      "maximum temperature: 18.1\n",
      "minimum temperature: -0.7\n",
      "standard deviation: 2.9272515263269288\n"
     ]
    }
   ],
   "source": [
    "maxval, minval, stdval = T_out.max(), T_out.min(), T_out.std()\n",
    "\n",
    "print('maximum temperature:', maxval)\n",
    "print('minimum temperature:', minval)\n",
    "print('standard deviation:', stdval)"
   ]
  },
  {
   "cell_type": "markdown",
   "metadata": {},
   "source": [
    "## Quelques exercices"
   ]
  },
  {
   "cell_type": "markdown",
   "metadata": {},
   "source": [
    "### Chaines de caractère et slicing"
   ]
  },
  {
   "cell_type": "markdown",
   "metadata": {},
   "source": [
    "Nous avons vu qu'il était possible de *slicer* un array. Il est également possible de slicer n'importe quel *itérable*, comme les listes, les tuples, les dictionnaires et... les chaînes de caractère. Ainsi\n",
    "\n",
    "```python\n",
    ">>> element = 'oxygen'\n",
    ">>> print('first three characters:', element[0:3])\n",
    "first three characters: oxy\n",
    ">>> print('last three characters:', element[3:6])\n",
    "last three characters: gen\n",
    "```\n",
    "\n",
    "Quel serait la valeur de `element[:4]`? `element[2::2]`? `element[:]`?"
   ]
  },
  {
   "cell_type": "markdown",
   "metadata": {},
   "source": [
    "### Thin slices\n",
    "\n",
    "La borne supérieur étant exclue, `element[3:3]` renverra une chaine vide. Qu'est-ce qui se passe si on fait la même chose avec `data[6:6, 1]` ? avec `data[6:6, :]` ?"
   ]
  },
  {
   "cell_type": "markdown",
   "metadata": {},
   "source": [
    "## Cas d'étude, données horaires"
   ]
  },
  {
   "cell_type": "markdown",
   "metadata": {},
   "source": [
    "Pour la suite, nous allons travailler sur la moyenne horaire des température extérieur, avec en lignes les différentes heures et en colonne les jours du mois."
   ]
  },
  {
   "cell_type": "code",
   "execution_count": 162,
   "metadata": {},
   "outputs": [],
   "source": [
    "data_h = np.loadtxt(\"../../data/temperatures_ext_np.csv\", delimiter=\",\")"
   ]
  },
  {
   "cell_type": "code",
   "execution_count": 163,
   "metadata": {},
   "outputs": [
    {
     "name": "stdout",
     "output_type": "stream",
     "text": [
      "(24, 31)\n"
     ]
    }
   ],
   "source": [
    "print(data_h.shape)"
   ]
  },
  {
   "cell_type": "markdown",
   "metadata": {},
   "source": [
    "Étudiez un peu les données : quels sont la moyenne de température du mois, heure par heure? l'écart type?\n",
    "A quelle heure a été la température la plus froide? Quel jour? (les données commencent le 1er Janvier et les heures à minuit)."
   ]
  },
  {
   "cell_type": "markdown",
   "metadata": {},
   "source": [
    "[***Prochaine section***](fonda_03-simple_vizu.ipynb)"
   ]
  }
 ],
 "metadata": {
  "kernelspec": {
   "display_name": "Python 3",
   "language": "python",
   "name": "python3"
  },
  "language_info": {
   "codemirror_mode": {
    "name": "ipython",
    "version": 3
   },
   "file_extension": ".py",
   "mimetype": "text/x-python",
   "name": "python",
   "nbconvert_exporter": "python",
   "pygments_lexer": "ipython3",
   "version": "3.7.3"
  }
 },
 "nbformat": 4,
 "nbformat_minor": 4
}
