{
 "cells": [
  {
   "cell_type": "markdown",
   "metadata": {},
   "source": [
    "# Rendre son code plus robuste en gérant les exception"
   ]
  },
  {
   "cell_type": "markdown",
   "metadata": {},
   "source": [
    "Tout programmeur, débutants comme expérimentés, rencontrent des erreurs. Leur gestion peuvent être très frustrante et rendre la programmation laborieuse. Comprendre les différents types d'erreurs peut beaucoup aider : une fois que vous savez *pourquoi* certaines erreurs arrivent, elles deviennent plus facile à corriger.\n",
    "\n",
    "Les erreurs en Python se présentent sous une forme très spécifique, appelé une *traceback*. Par example:"
   ]
  },
  {
   "cell_type": "code",
   "execution_count": null,
   "metadata": {},
   "outputs": [],
   "source": [
    "# This code has an intentional error. You can type it directly or\n",
    "# use it for reference to understand the error message below.\n",
    "def favorite_ice_cream():\n",
    "    ice_creams = [\n",
    "        \"chocolate\",\n",
    "        \"vanilla\",\n",
    "        \"strawberry\"\n",
    "    ]\n",
    "    print(ice_creams[3])\n",
    "\n",
    "favorite_ice_cream()\n"
   ]
  },
  {
   "cell_type": "markdown",
   "metadata": {},
   "source": [
    "On remarque que la traceback possède deux niveaux. Ce nombre de niveaux est determinée par le nombre de flèches sur la gauche.\n",
    "\n",
    "1. La première flèche pointe vers la ligne 11 (`favorite_ice_cream()`).\n",
    "2. La seconde flèche pointe du code dans la fonction `favorite_ice_cream`, à la ligne 9 (`print(ice_creams[3])`)\n",
    "\n",
    "Le dernier niveau pointe là où l'erreur à eu lieu. Les autres niveaux montrent quelle fonction le programme executait pour aller au niveau suivant.\n",
    "\n",
    "Ici, le programme était en train d'executer la fonction `favorite_ice_cream`. Dans cette fonction, le programme a rencontré une erreur ligne 9 en essayant d'executer l'instruction `print(ice_creams[3])`.\n",
    "\n",
    "> Les tracebacks peuvent être beaucoup plus longue. La longueur de la traceback ne reflète pas la gravité de l'erreur. La plupart du temps, seul le dernier niveau importe, et vous pouvez aller directement tout en bas de la traceback.\n",
    "\n",
    "Qu'est-ce que cette erreur nous indique? A la fin de la traceback, Python nous indique le type de l'erreur (ici une `IndexError`) et un message plus détaillé (ici, `list index out of range`).\n",
    "\n",
    "Dans le cas où vous rencontrez une erreur qui vous est inconnu et que vous ne comprenez pas, il est important de bien regarder la traceback. Si vous corrigez une erreur mais que vous en rencontrez une autre, vous pourrez vérifier que l'erreur a bien changé. De plus, savoir *où* est l'erreur peut êre suffisant pour la corriger, même si vous ne comprenez pas complètement le message.\n",
    "\n",
    "Si vous rencontrez une erreur inconnue, regardez la [documentation officielle des erreurs](http://docs.python.org/3/library/exceptions.html). Notez qu'il est possible de créer des erreurs \"custom\", et que vous ne trouverez pas toutes les erreurs dans ce document. Ces dernières devrait toutefois posséder un message suffisement explicite."
   ]
  },
  {
   "cell_type": "markdown",
   "metadata": {},
   "source": [
    "## Erreurs de syntaxe"
   ]
  },
  {
   "cell_type": "markdown",
   "metadata": {},
   "source": [
    "Quand vous oubliez un `:` a la fin d'une ligne, vous trompez dans l'indentation ou oubliez une parenthèse, vous rencontrerez une erreur de syntaxe (`SyntaxError`). Dans ce cas, Python est incapable de comprendre vos instructions."
   ]
  },
  {
   "cell_type": "code",
   "execution_count": null,
   "metadata": {},
   "outputs": [],
   "source": [
    "def some_function()\n",
    "    msg = \"hello, world!\"\n",
    "    print(msg)\n",
    "     return msg\n"
   ]
  },
  {
   "cell_type": "markdown",
   "metadata": {},
   "source": [
    "Il y a ici deux erreurs : le `:` oublié à la fin de la définition de la fonction et un problème d'indentation :"
   ]
  },
  {
   "cell_type": "code",
   "execution_count": null,
   "metadata": {},
   "outputs": [],
   "source": [
    "def some_function():\n",
    "    msg = \"hello, world!\"\n",
    "    print(msg)\n",
    "     return msg\n"
   ]
  },
  {
   "cell_type": "markdown",
   "metadata": {},
   "source": [
    "> Tabulation et espaces: si vous mélangez tabulation et espaces, l'interpréteur sera incapable de comprendre votre programme. Ces erreurs peuvent être difficile à trouver, car ce sont des espaces blancs dans les deux cas. La plupart des éditeurs utilisent d'office des espaces quand vous utilisez la touche `Tab`. La pep8 suggère d'utiliser 4 espaces pour une tabulation."
   ]
  },
  {
   "cell_type": "code",
   "execution_count": null,
   "metadata": {},
   "outputs": [],
   "source": [
    "def some_function():\n",
    "\tmsg = \"hello, world!\"\n",
    "\tprint(msg)\n",
    "        return msg"
   ]
  },
  {
   "cell_type": "markdown",
   "metadata": {},
   "source": [
    "## `NameError`\n",
    "\n",
    "Cette erreur se rencontre quand vous tentez d'utiliser une variable qui n'est pas assigné."
   ]
  },
  {
   "cell_type": "code",
   "execution_count": null,
   "metadata": {},
   "outputs": [],
   "source": [
    "print(a)"
   ]
  },
  {
   "cell_type": "markdown",
   "metadata": {},
   "source": [
    "Cela peut arriver parce que vous vouliez utiliser une chaine de caractère mais vous avez oubliés les guillemets."
   ]
  },
  {
   "cell_type": "code",
   "execution_count": null,
   "metadata": {},
   "outputs": [],
   "source": [
    "print(hello)"
   ]
  },
  {
   "cell_type": "markdown",
   "metadata": {},
   "source": [
    "Ou que vous ayez juste oublié d'initialiser une variable."
   ]
  },
  {
   "cell_type": "code",
   "execution_count": null,
   "metadata": {},
   "outputs": [],
   "source": [
    "def increment():\n",
    "    count = 0\n",
    "    for number in range(10):\n",
    "        count = count + number\n",
    "    print(\"The count is:\", count)"
   ]
  },
  {
   "cell_type": "code",
   "execution_count": null,
   "metadata": {},
   "outputs": [],
   "source": [
    "increment()"
   ]
  },
  {
   "cell_type": "markdown",
   "metadata": {},
   "source": [
    "Une dernière possibilité est que vous ayez fait une faute de frappe"
   ]
  },
  {
   "cell_type": "code",
   "execution_count": null,
   "metadata": {},
   "outputs": [],
   "source": [
    "Count = 0\n",
    "for number in range(10):\n",
    "    count = count + number\n",
    "print(\"The count is:\", count)"
   ]
  },
  {
   "cell_type": "markdown",
   "metadata": {},
   "source": [
    "## `IndexError`"
   ]
  },
  {
   "cell_type": "code",
   "execution_count": null,
   "metadata": {},
   "outputs": [],
   "source": [
    "letters = ['a', 'b', 'c']\n",
    "print(\"Letter #1 is\", letters[0])\n",
    "print(\"Letter #2 is\", letters[1])\n",
    "print(\"Letter #3 is\", letters[2])\n",
    "print(\"Letter #4 is\", letters[3])"
   ]
  },
  {
   "cell_type": "code",
   "execution_count": null,
   "metadata": {},
   "outputs": [],
   "source": [
    "my_dict = {\"gt\": 7}"
   ]
  },
  {
   "cell_type": "code",
   "execution_count": null,
   "metadata": {},
   "outputs": [],
   "source": [
    "my_dict[\"gt0\"]"
   ]
  },
  {
   "cell_type": "markdown",
   "metadata": {},
   "source": [
    "## `File Errors`"
   ]
  },
  {
   "cell_type": "code",
   "execution_count": null,
   "metadata": {},
   "outputs": [],
   "source": [
    "!rm myfile.txt"
   ]
  },
  {
   "cell_type": "markdown",
   "metadata": {},
   "source": [
    "Vous rencontrerez une erreur si vous essayez de lire un fichier qui n'existe pas."
   ]
  },
  {
   "cell_type": "code",
   "execution_count": null,
   "metadata": {},
   "outputs": [],
   "source": [
    "file_handle = open('myfile.txt', 'r')"
   ]
  },
  {
   "cell_type": "markdown",
   "metadata": {},
   "source": [
    "si vous tentez de lire un fichier que vous venez d'ouvrir en écriture, Python vous indiquera une autre erreur."
   ]
  },
  {
   "cell_type": "code",
   "execution_count": null,
   "metadata": {},
   "outputs": [],
   "source": [
    "file_handle = open('myfile.txt', 'w')\n",
    "file_handle.read()"
   ]
  },
  {
   "cell_type": "markdown",
   "metadata": {},
   "source": [
    "## Exercice : trouvez et corrigez les erreurs"
   ]
  },
  {
   "cell_type": "code",
   "execution_count": null,
   "metadata": {},
   "outputs": [],
   "source": [
    "# This code has an intentional error. Do not type it directly;\n",
    "# use it for reference to understand the error message below.\n",
    "def print_message(day):\n",
    "    messages = {\n",
    "        \"monday\": \"Hello, world!\",\n",
    "        \"tuesday\": \"Today is Tuesday!\",\n",
    "        \"wednesday\": \"It is the middle of the week.\",\n",
    "        \"thursday\": \"Today is Donnerstag in German!\",\n",
    "        \"friday\": \"Last day of the week!\",\n",
    "        \"saturday\": \"Hooray for the weekend!\",\n",
    "        \"sunday\": \"Aw, the weekend is almost over.\"\n",
    "    }\n",
    "    print(messages[day])\n",
    "\n",
    "def print_friday_message():\n",
    "    print_message(\"Friday\")\n",
    "\n",
    "print_friday_message()"
   ]
  },
  {
   "cell_type": "code",
   "execution_count": null,
   "metadata": {},
   "outputs": [],
   "source": [
    "def another_function():\n",
    "    print(\"Syntax errors are annoying.\")\n",
    "    print(\"But at least Python tells us about them!\")\n",
    "    print(\"So they are usually not too hard to fix.\")"
   ]
  },
  {
   "cell_type": "code",
   "execution_count": null,
   "metadata": {},
   "outputs": [],
   "source": [
    "message = \"\"\n",
    "for number in range(10):\n",
    "    # use a if the number is a multiple of 3, otherwise use b\n",
    "    if (number % 3) == 0:\n",
    "        message = message + \"a\"\n",
    "    else:\n",
    "        message = message + \"b\"\n",
    "print(message)\n"
   ]
  },
  {
   "cell_type": "code",
   "execution_count": null,
   "metadata": {},
   "outputs": [],
   "source": [
    "seasons = ['Spring', 'Summer', 'Fall', 'Winter']\n",
    "print('My favorite season is ', seasons[3])"
   ]
  },
  {
   "cell_type": "code",
   "execution_count": null,
   "metadata": {},
   "outputs": [],
   "source": []
  }
 ],
 "metadata": {
  "kernelspec": {
   "display_name": "Python [conda env:stats]",
   "language": "python",
   "name": "conda-env-stats-py"
  },
  "language_info": {
   "codemirror_mode": {
    "name": "ipython",
    "version": 3
   },
   "file_extension": ".py",
   "mimetype": "text/x-python",
   "name": "python",
   "nbconvert_exporter": "python",
   "pygments_lexer": "ipython3",
   "version": "3.7.6"
  }
 },
 "nbformat": 4,
 "nbformat_minor": 4
}
