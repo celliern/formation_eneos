{
 "cells": [
  {
   "cell_type": "code",
   "execution_count": null,
   "metadata": {},
   "outputs": [],
   "source": [
    "import matplotlib.pyplot as plt\n",
    "import numpy as np\n",
    "import path # librairie tierce, `pip install path.py`\n",
    "\n",
    "%matplotlib inline"
   ]
  },
  {
   "cell_type": "markdown",
   "metadata": {},
   "source": [
    "## Avec path (librairie tierce, renvoie des path.Path)"
   ]
  },
  {
   "cell_type": "code",
   "execution_count": null,
   "metadata": {},
   "outputs": [],
   "source": [
    "data_folder = path.Path(\"../../data/pac_power/\")\n",
    "files = data_folder.glob(\"*.csv\")\n",
    "print(type(files))\n",
    "for file in files:\n",
    "    print(file, type(file))"
   ]
  },
  {
   "cell_type": "code",
   "execution_count": null,
   "metadata": {},
   "outputs": [],
   "source": [
    "sorted(files)"
   ]
  },
  {
   "cell_type": "markdown",
   "metadata": {},
   "source": [
    "il est possible d'ordonner une liste. Mais ce sera l'ordre naturel des objets dans la liste qui différera si ce sont des str, des int....\n",
    "\n",
    "De plus, il est parfois impossible d'ordonner des objets hétérogènes."
   ]
  },
  {
   "cell_type": "code",
   "execution_count": null,
   "metadata": {},
   "outputs": [],
   "source": [
    "\"7\" > 9"
   ]
  },
  {
   "cell_type": "code",
   "execution_count": null,
   "metadata": {},
   "outputs": [],
   "source": [
    "sorted([9, \"7\"])"
   ]
  },
  {
   "cell_type": "markdown",
   "metadata": {},
   "source": [
    "Mais `sorted` prend un argument `key` supplémentaire : une fonction permettant de convertir les objets de façon à les comparer entre eux."
   ]
  },
  {
   "cell_type": "code",
   "execution_count": null,
   "metadata": {},
   "outputs": [],
   "source": [
    "sorted([9, \"7\"], key=float)"
   ]
  },
  {
   "cell_type": "markdown",
   "metadata": {},
   "source": [
    "Il est possible d'utiliser cet argument pour ordonner nos fichiers !"
   ]
  },
  {
   "cell_type": "code",
   "execution_count": null,
   "metadata": {},
   "outputs": [],
   "source": [
    "def extract_number_from_file(file):\n",
    "    return int(file.basename().stripext())"
   ]
  },
  {
   "cell_type": "code",
   "execution_count": null,
   "metadata": {},
   "outputs": [],
   "source": [
    "print(file)\n",
    "extract_number_from_file(file)"
   ]
  },
  {
   "cell_type": "code",
   "execution_count": null,
   "metadata": {},
   "outputs": [],
   "source": [
    "files = path.Path(\"../../data/pac_power/\").files(\"*.csv\")\n",
    "for file in sorted(files,\n",
    "                   key=extract_number_from_file):\n",
    "    print(file, type(file))"
   ]
  },
  {
   "cell_type": "markdown",
   "metadata": {},
   "source": [
    "### Analyser ces différents fichiers"
   ]
  },
  {
   "cell_type": "code",
   "execution_count": null,
   "metadata": {},
   "outputs": [],
   "source": [
    "files = path.Path(\"../../data/pac_power/\").files(\"*.csv\")"
   ]
  },
  {
   "cell_type": "markdown",
   "metadata": {},
   "source": [
    "On va utiliser un dictionnaire pour stocker les différentes données : ce dictionnaire contiendra en clé *le numéro du mois* et en valeur *le tableau numpy contenant les données*."
   ]
  },
  {
   "cell_type": "code",
   "execution_count": null,
   "metadata": {},
   "outputs": [],
   "source": [
    "import calendar"
   ]
  },
  {
   "cell_type": "code",
   "execution_count": null,
   "metadata": {},
   "outputs": [],
   "source": [
    "data_dict = {}\n",
    "for file in sorted(files, key=extract_number_from_file):\n",
    "    month_number = extract_number_from_file(file)\n",
    "    month_name = calendar.month_name[month_number]\n",
    "    print(month_name)\n",
    "    data_dict[month_number] = np.loadtxt(file, delimiter=\",\")"
   ]
  },
  {
   "cell_type": "code",
   "execution_count": null,
   "metadata": {},
   "outputs": [],
   "source": [
    "data_dict[1].shape"
   ]
  },
  {
   "cell_type": "markdown",
   "metadata": {},
   "source": [
    "On peut visualiser l'ensemble des puissance, heure par heure pour chaques jours de chaques mois."
   ]
  },
  {
   "cell_type": "code",
   "execution_count": null,
   "metadata": {},
   "outputs": [],
   "source": [
    "print([d.max() for d in data_dict.values()])\n",
    "print(max([d.max() for d in data_dict.values()]))"
   ]
  },
  {
   "cell_type": "code",
   "execution_count": null,
   "metadata": {},
   "outputs": [],
   "source": [
    "fig, axs = plt.subplots(2, 6, sharex=\"all\", sharey=\"all\",\n",
    "                        figsize=(12, 5), constrained_layout=True)\n",
    "power_max = max([d.max() for d in data_dict.values()])\n",
    "\n",
    "print(axs)\n",
    "for i, ax in enumerate(axs.flatten(), 1):\n",
    "    pcm = ax.pcolormesh(data_dict[i], vmin=0, vmax=power_max)\n",
    "    ax.set_title(calendar.month_name[i])\n",
    "    ax.set_ylim(31, 1)\n",
    "[ax.set_ylabel(\"day\") for ax in axs[:, 0]]\n",
    "[ax.set_xlabel(\"hour\") for ax in axs[1, :]]\n",
    "\n",
    "fig.colorbar(pcm, ax=axs.flatten().tolist(),\n",
    "             shrink=0.95, label=\"PAC Power (W)\");"
   ]
  },
  {
   "cell_type": "markdown",
   "metadata": {},
   "source": [
    "Il est également possible de calculer un certain nombre de métriques pour chaques mois :"
   ]
  },
  {
   "cell_type": "code",
   "execution_count": null,
   "metadata": {},
   "outputs": [],
   "source": [
    "for month_number, data in sorted(data_dict.items()):\n",
    "    month_name = calendar.month_name[month_number]\n",
    "    \n",
    "    mean_power = data.mean()\n",
    "    max_power = data.max()\n",
    "    std_power = data.std()\n",
    "    day_max, hour_max = np.unravel_index(np.argmax(data), data.shape)\n",
    "    frac_func = data[np.where(data != 0)].size / data.size\n",
    "    \n",
    "    print(f\"\"\"{month_name}\n",
    "    mean: {mean_power:g} W\n",
    "    max: {max_power:g} W {f'({day_max + 1:02d}/{month_number:02d} {hour_max}H)' if max_power != 0 else ''}\n",
    "    std: {std_power:g}\n",
    "    % func: {frac_func*100:g}\n",
    "    \"\"\")"
   ]
  },
  {
   "attachments": {
    "image.png": {
     "image/png": "[encoded data removed]"
    }
   },
   "cell_type": "markdown",
   "metadata": {},
   "source": [
    "## Exercice: affichage de l'energie journalière\n",
    "\n",
    "L'objectif de l'exercice est d'obtenir une énergie dépensé chaques jour par la PAC, en kWH puis en MJ.\n",
    "\n",
    "Indices : il est possible de *concatener* les array numpy avec `np.concatenate(une_liste_d'array)`. La somme se fait avec `np.sum(array)` et accepte un argument `axis` pour ne sommer d'une dimension.\n",
    "\n",
    "![image.png](attachment:image.png)"
   ]
  },
  {
   "cell_type": "code",
   "execution_count": null,
   "metadata": {},
   "outputs": [],
   "source": [
    "list_of_arrays = list(data_dict.values())\n",
    "annual_pac_power = np.concatenate(list_of_arrays, axis=0)\n",
    "print(annual_pac_power.shape) # On vérifie que les dimensions sont cohérentes\n",
    "daily_energy = (annual_pac_power / 1000).sum(axis=1) # W -> kW, puis somme sur la dimension des heures.\n",
    "print(daily_energy.shape) # On vérifie que le résultat ai une dimension avec 365 valeurs."
   ]
  },
  {
   "cell_type": "code",
   "execution_count": null,
   "metadata": {},
   "outputs": [],
   "source": [
    "fig, ax = plt.subplots() # on crée la figure et l'axe (qui contiendra les courbes)\n",
    "ax.plot(daily_energy, color=\"black\")  # on affiche l'énergie journalière\n",
    "# Ajout des labels\n",
    "ax.set_xlabel(\"Day of year\")\n",
    "ax.set_ylabel(\"Daily energy consumption (kWh)\")\n",
    "# Gestion des échelles\n",
    "ax.set_xlim(0, 365)\n",
    "ax.set_ylim(0)"
   ]
  },
  {
   "cell_type": "code",
   "execution_count": null,
   "metadata": {},
   "outputs": [],
   "source": []
  }
 ],
 "metadata": {
  "kernelspec": {
   "display_name": "Python [conda env:stats]",
   "language": "python",
   "name": "conda-env-stats-py"
  },
  "language_info": {
   "codemirror_mode": {
    "name": "ipython",
    "version": 3
   },
   "file_extension": ".py",
   "mimetype": "text/x-python",
   "name": "python",
   "nbconvert_exporter": "python",
   "pygments_lexer": "ipython3",
   "version": "3.7.6"
  }
 },
 "nbformat": 4,
 "nbformat_minor": 4
}
